{
 "cells": [
  {
   "cell_type": "markdown",
   "metadata": {},
   "source": [
    "# Your Title Here\n",
    "\n",
    "**Name**: Kiran Chandrasekaran\n",
    "\n",
    "**Website Link**: (your website link)"
   ]
  },
  {
   "cell_type": "code",
   "execution_count": 2,
   "metadata": {
    "ExecuteTime": {
     "end_time": "2019-10-31T23:36:28.652554Z",
     "start_time": "2019-10-31T23:36:27.180520Z"
    }
   },
   "outputs": [],
   "source": [
    "import pandas as pd\n",
    "import numpy as np\n",
    "\n",
    "import plotly.express as px\n",
    "pd.options.plotting.backend = 'plotly'\n",
    "\n",
    "from lec_utils import * # Feel free to uncomment and use this. It'll make your plotly graphs look like ours in lecture!"
   ]
  },
  {
   "cell_type": "markdown",
   "metadata": {},
   "source": [
    "## Step 1: Introduction"
   ]
  },
  {
   "cell_type": "code",
   "execution_count": 7,
   "metadata": {},
   "outputs": [],
   "source": [
    "outages = pd.read_csv('data/outage_data.csv')"
   ]
  },
  {
   "cell_type": "code",
   "execution_count": 8,
   "metadata": {},
   "outputs": [],
   "source": [
    "outages['TOTAL.PRICE'].describe()"
   ]
  },
  {
   "cell_type": "code",
   "execution_count": 9,
   "metadata": {},
   "outputs": [],
   "source": [
    "outages.columns"
   ]
  },
  {
   "cell_type": "markdown",
   "metadata": {},
   "source": [
    "## Step 2: Data Cleaning and Exploratory Data Analysis"
   ]
  },
  {
   "cell_type": "code",
   "execution_count": 10,
   "metadata": {
    "ExecuteTime": {
     "end_time": "2019-10-31T23:36:28.657068Z",
     "start_time": "2019-10-31T23:36:28.654650Z"
    }
   },
   "outputs": [],
   "source": [
    "outages.groupby('U.S._STATE')['TOTAL.PRICE'].mean()"
   ]
  },
  {
   "cell_type": "code",
   "execution_count": 1,
   "metadata": {
    "ExecuteTime": {
     "end_time": "2019-10-31T23:36:28.662099Z",
     "start_time": "2019-10-31T23:36:28.660016Z"
    }
   },
   "outputs": [],
   "source": [
    "\n",
    "# Load your dataset\n",
    "df = outages\n",
    "\n",
    "# Scatter plot: Outage Duration vs. Customers Affected\n",
    "fig1 = px.scatter(df, x='CUSTOMERS.AFFECTED', y='OUTAGE.DURATION', \n",
    "                   title='Outage Duration vs Customers Affected',\n",
    "                   labels={'CUSTOMERS.AFFECTED': 'Customers Affected', 'OUTAGE.DURATION': 'Outage Duration (minutes)'},\n",
    "                   trendline='ols')\n",
    "fig1.show()\n",
    "\n"
   ]
  },
  {
   "cell_type": "code",
   "execution_count": 12,
   "metadata": {},
   "outputs": [],
   "source": [
    "# Box plot: Outage Duration by Cause Category\n",
    "fig2 = px.box(df, x='CAUSE.CATEGORY', y='OUTAGE.DURATION', \n",
    "               title='Outage Duration by Cause Category',\n",
    "               labels={'CAUSE.CATEGORY': 'Cause Category', 'OUTAGE.DURATION': 'Outage Duration (minutes)'},\n",
    "               color='CAUSE.CATEGORY')\n",
    "fig2.show()"
   ]
  },
  {
   "cell_type": "code",
   "execution_count": 13,
   "metadata": {},
   "outputs": [],
   "source": [
    "# Scatter plot: Outage Duration vs. Anomaly Level (El Niño/La Niña)\n",
    "fig3 = px.scatter(df, x='ANOMALY.LEVEL', y='OUTAGE.DURATION', \n",
    "                   title='Outage Duration vs Anomaly Level (El Niño/La Niña)',\n",
    "                   labels={'ANOMALY.LEVEL': 'Anomaly Level', 'OUTAGE.DURATION': 'Outage Duration (minutes)'},\n",
    "                   trendline='ols')\n",
    "fig3.show()"
   ]
  },
  {
   "cell_type": "code",
   "execution_count": 14,
   "metadata": {},
   "outputs": [],
   "source": [
    "# Scatter plot: Outage Duration vs. Electricity Price\n",
    "fig4 = px.scatter(df, x='TOTAL.PRICE', y='OUTAGE.DURATION', \n",
    "                   title='Outage Duration vs Electricity Price',\n",
    "                   labels={'TOTAL.PRICE': 'Electricity Price (cents/kWh)', 'OUTAGE.DURATION': 'Outage Duration (minutes)'},\n",
    "                   trendline='ols')\n",
    "fig4.show()"
   ]
  },
  {
   "cell_type": "code",
   "execution_count": 15,
   "metadata": {},
   "outputs": [],
   "source": [
    "# Create bins for electricity price\n",
    "df['PRICE.BIN'] = pd.cut(df['TOTAL.PRICE'], bins=[0, 5, 10, 15, 20, 25], labels=['0-5', '5-10', '10-15', '15-20', '20-25'])\n",
    "\n",
    "# Box plot: Outage Duration by Electricity Price Range\n",
    "fig5 = px.box(df, x='PRICE.BIN', y='OUTAGE.DURATION', \n",
    "               title='Outage Duration by Electricity Price Range',\n",
    "               labels={'PRICE.BIN': 'Electricity Price Range (cents/kWh)', 'OUTAGE.DURATION': 'Outage Duration (minutes)'},\n",
    "               color='PRICE.BIN')\n",
    "fig5.show()"
   ]
  },
  {
   "cell_type": "code",
   "execution_count": 16,
   "metadata": {},
   "outputs": [],
   "source": [
    "outages.replace('', np.nan, inplace=True)"
   ]
  },
  {
   "cell_type": "code",
   "execution_count": 17,
   "metadata": {},
   "outputs": [],
   "source": [
    "outages['OUTAGE.START.DT'] = pd.to_datetime(outages['OUTAGE.START.DATE'] + ' ' + outages['OUTAGE.START.TIME'], errors='coerce')\n",
    "outages['OUTAGE.END.DT'] = pd.to_datetime(outages['OUTAGE.RESTORATION.DATE'] + ' ' + outages['OUTAGE.RESTORATION.TIME'], errors='coerce')"
   ]
  },
  {
   "cell_type": "code",
   "execution_count": 18,
   "metadata": {},
   "outputs": [],
   "source": [
    "outages['OUTAGE.MONTH'] = outages['OUTAGE.START.DT'].dt.month\n",
    "outages['OUTAGE.YEAR'] = outages['OUTAGE.START.DT'].dt.year"
   ]
  },
  {
   "cell_type": "markdown",
   "metadata": {},
   "source": [
    "## Step 3: Framing a Prediction Problem"
   ]
  },
  {
   "cell_type": "code",
   "execution_count": 19,
   "metadata": {
    "ExecuteTime": {
     "end_time": "2019-10-31T23:36:28.657068Z",
     "start_time": "2019-10-31T23:36:28.654650Z"
    }
   },
   "outputs": [],
   "source": [
    "fig1 = px.histogram(outages, x='OUTAGE.DURATION', nbins=100, title='Distribution of Outage Durations (Hours)')\n",
    "fig1.show()"
   ]
  },
  {
   "cell_type": "code",
   "execution_count": 20,
   "metadata": {},
   "outputs": [],
   "source": [
    "fig2 = px.histogram(outages, x='CAUSE.CATEGORY', title='Count of Outages by Cause Category')\n",
    "fig2.show()"
   ]
  },
  {
   "cell_type": "code",
   "execution_count": 21,
   "metadata": {},
   "outputs": [],
   "source": [
    "fig3 = px.histogram(outages, x='NERC.REGION', title='Outages by NERC Region')\n",
    "fig3.show()"
   ]
  },
  {
   "cell_type": "code",
   "execution_count": 22,
   "metadata": {},
   "outputs": [],
   "source": [
    "fig4 = px.scatter(outages, x='CUSTOMERS.AFFECTED', y='OUTAGE.DURATION',\n",
    "                  title='Outage Duration vs. Customers Affected',\n",
    "                  log_x=True)  # Log scale since customer counts can be huge\n",
    "fig4.show()"
   ]
  },
  {
   "cell_type": "code",
   "execution_count": 23,
   "metadata": {},
   "outputs": [],
   "source": [
    "fig5 = px.box(outages, x='CAUSE.CATEGORY', y='OUTAGE.DURATION',\n",
    "              title='Outage Duration by Cause Category')\n",
    "fig5.show()"
   ]
  },
  {
   "cell_type": "code",
   "execution_count": 24,
   "metadata": {},
   "outputs": [],
   "source": [
    "fig6 = px.box(outages, x='CLIMATE.CATEGORY', y='OUTAGE.DURATION',\n",
    "              title='Outage Duration by Climate Category')\n",
    "fig6.show()"
   ]
  },
  {
   "cell_type": "code",
   "execution_count": 25,
   "metadata": {},
   "outputs": [],
   "source": [
    "agg_state = outages.groupby('U.S._STATE').agg({\n",
    "    'OUTAGE.DURATION': ['mean', 'count'],\n",
    "    'CUSTOMERS.AFFECTED': 'mean'\n",
    "}).reset_index()\n",
    "agg_state.columns = ['U.S._STATE', 'Avg_Outage_Duration', 'Outage_Count', 'Avg_Customers_Affected']\n"
   ]
  },
  {
   "cell_type": "code",
   "execution_count": 26,
   "metadata": {},
   "outputs": [],
   "source": [
    "import plotly.graph_objects as go\n",
    "fig7 = go.Figure(data=[go.Table(\n",
    "    header=dict(values=list(agg_state.columns),\n",
    "                fill_color='paleturquoise',\n",
    "                align='left'),\n",
    "    cells=dict(values=[agg_state[col] for col in agg_state.columns],\n",
    "               fill_color='lavender',\n",
    "               align='left'))\n",
    "])\n",
    "fig7.update_layout(title=\"Aggregate Outage Statistics by State\")\n",
    "fig7.show()"
   ]
  },
  {
   "cell_type": "markdown",
   "metadata": {},
   "source": [
    "## Step 4: Baseline Model"
   ]
  },
  {
   "cell_type": "code",
   "execution_count": 27,
   "metadata": {
    "ExecuteTime": {
     "end_time": "2019-10-31T23:36:28.662099Z",
     "start_time": "2019-10-31T23:36:28.660016Z"
    }
   },
   "outputs": [],
   "source": [
    "from sklearn.model_selection import train_test_split\n",
    "from sklearn.linear_model import LinearRegression\n",
    "from sklearn.metrics import mean_squared_error, r2_score"
   ]
  },
  {
   "cell_type": "code",
   "execution_count": 28,
   "metadata": {},
   "outputs": [],
   "source": [
    "features = [\n",
    "    'CUSTOMERS.AFFECTED',\n",
    "    'RES.PRICE', 'COM.PRICE', 'IND.PRICE',\n",
    "    'POPULATION'\n",
    "]"
   ]
  },
  {
   "cell_type": "code",
   "execution_count": 29,
   "metadata": {},
   "outputs": [],
   "source": [
    "df_model = outages[features + ['OUTAGE.DURATION']].copy()\n"
   ]
  },
  {
   "cell_type": "code",
   "execution_count": 30,
   "metadata": {},
   "outputs": [],
   "source": [
    "df_model.dropna(inplace=True)"
   ]
  },
  {
   "cell_type": "code",
   "execution_count": 31,
   "metadata": {},
   "outputs": [],
   "source": [
    "X = df_model[features]\n",
    "y = df_model['OUTAGE.DURATION']"
   ]
  },
  {
   "cell_type": "code",
   "execution_count": 32,
   "metadata": {},
   "outputs": [],
   "source": [
    "X_train, X_test, y_train, y_test = train_test_split(X, y, test_size=0.2, random_state=42)\n"
   ]
  },
  {
   "cell_type": "code",
   "execution_count": 33,
   "metadata": {},
   "outputs": [],
   "source": [
    "lr = LinearRegression()\n",
    "lr.fit(X_train, y_train)"
   ]
  },
  {
   "cell_type": "code",
   "execution_count": 34,
   "metadata": {},
   "outputs": [],
   "source": [
    "y_pred = lr.predict(X_test)\n"
   ]
  },
  {
   "cell_type": "code",
   "execution_count": 35,
   "metadata": {},
   "outputs": [],
   "source": [
    "r2 = r2_score(y_test, y_pred)\n",
    "rmse = np.sqrt(mean_squared_error(y_test, y_pred))"
   ]
  },
  {
   "cell_type": "code",
   "execution_count": 36,
   "metadata": {},
   "outputs": [],
   "source": [
    "print(f\"R² Score: {r2:.3f}\")\n",
    "print(f\"Root Mean Squared Error (RMSE): {rmse:.2f} hours\")"
   ]
  },
  {
   "cell_type": "code",
   "execution_count": 37,
   "metadata": {},
   "outputs": [],
   "source": [
    "results = pd.DataFrame({'Actual': y_test, 'Predicted': y_pred})\n",
    "\n",
    "fig = px.scatter(results, x='Actual', y='Predicted',\n",
    "                 title='Baseline Model: Actual vs Predicted Outage Duration',\n",
    "                 labels={'Actual': 'Actual Outage Duration', 'Predicted': 'Predicted Outage Duration'})\n",
    "\n",
    "# Add perfect prediction line\n",
    "fig.add_shape(\n",
    "    type=\"line\", line=dict(dash='dash'),\n",
    "    x0=results['Actual'].min(), y0=results['Actual'].min(),\n",
    "    x1=results['Actual'].max(), y1=results['Actual'].max()\n",
    ")\n",
    "\n",
    "fig.show()"
   ]
  },
  {
   "cell_type": "code",
   "execution_count": 39,
   "metadata": {},
   "outputs": [],
   "source": [
    "'''\n",
    "Model Choice: We built a baseline linear regression model predicting outage duration from customers affected, electricity prices, and population.\n",
    "\n",
    "Data Preparation: We dropped rows with missing data and used a simple train/test split (80% train, 20% test).\n",
    "\n",
    "Performance: Report the R² and RMSE values.\n",
    "\n",
    "Scatter Plot: Explain how close the points are to the diagonal line — the closer they are, the better the predictions.\n",
    "'''"
   ]
  },
  {
   "cell_type": "markdown",
   "metadata": {},
   "source": [
    "## Step 5: Final Model"
   ]
  },
  {
   "cell_type": "code",
   "execution_count": 40,
   "metadata": {
    "ExecuteTime": {
     "end_time": "2019-10-31T23:36:28.662099Z",
     "start_time": "2019-10-31T23:36:28.660016Z"
    }
   },
   "outputs": [],
   "source": [
    "from sklearn.ensemble import RandomForestRegressor\n",
    "from sklearn.model_selection import GridSearchCV\n",
    "from sklearn.pipeline import Pipeline\n",
    "from sklearn.preprocessing import FunctionTransformer\n",
    "from sklearn.impute import SimpleImputer\n",
    "from sklearn.preprocessing import StandardScaler\n",
    "from sklearn.compose import ColumnTransformer\n"
   ]
  },
  {
   "cell_type": "code",
   "execution_count": 41,
   "metadata": {},
   "outputs": [],
   "source": [
    "df_model['LOG_CUSTOMERS_AFFECTED'] = np.log1p(df_model['CUSTOMERS.AFFECTED'])  # log(1 + x) to avoid -inf\n",
    "df_model['CUST_AFFECTED_PCT_POP'] = df_model['CUSTOMERS.AFFECTED'] / df_model['POPULATION']\n"
   ]
  },
  {
   "cell_type": "code",
   "execution_count": 42,
   "metadata": {},
   "outputs": [],
   "source": [
    "final_features = [\n",
    "    'LOG_CUSTOMERS_AFFECTED', 'CUST_AFFECTED_PCT_POP',\n",
    "    'RES.PRICE', 'COM.PRICE', 'IND.PRICE', 'POPULATION'\n",
    "]"
   ]
  },
  {
   "cell_type": "code",
   "execution_count": 43,
   "metadata": {},
   "outputs": [],
   "source": [
    "X = df_model[final_features]\n",
    "y = df_model['OUTAGE.DURATION']"
   ]
  },
  {
   "cell_type": "code",
   "execution_count": 44,
   "metadata": {},
   "outputs": [],
   "source": [
    "X_train, X_test, y_train, y_test = train_test_split(X, y, test_size=0.2, random_state=42)\n"
   ]
  },
  {
   "cell_type": "code",
   "execution_count": 45,
   "metadata": {},
   "outputs": [],
   "source": [
    "numeric_features = final_features\n",
    "numeric_transformer = Pipeline(steps=[\n",
    "    ('imputer', SimpleImputer(strategy='median')),  # Fill missing values if needed\n",
    "    ('scaler', StandardScaler())\n",
    "])"
   ]
  },
  {
   "cell_type": "code",
   "execution_count": 46,
   "metadata": {},
   "outputs": [],
   "source": [
    "preprocessor = ColumnTransformer(\n",
    "    transformers=[\n",
    "        ('num', numeric_transformer, numeric_features)\n",
    "    ]\n",
    ")"
   ]
  },
  {
   "cell_type": "code",
   "execution_count": 47,
   "metadata": {},
   "outputs": [],
   "source": [
    "rf_pipeline = Pipeline(steps=[\n",
    "    ('preprocessor', preprocessor),\n",
    "    ('regressor', RandomForestRegressor(random_state=42))\n",
    "])"
   ]
  },
  {
   "cell_type": "code",
   "execution_count": 48,
   "metadata": {},
   "outputs": [],
   "source": [
    "param_grid = {\n",
    "    'regressor__n_estimators': [50, 100],\n",
    "    'regressor__max_depth': [5, 10, None],\n",
    "    'regressor__min_samples_split': [2, 5],\n",
    "}"
   ]
  },
  {
   "cell_type": "code",
   "execution_count": 49,
   "metadata": {},
   "outputs": [],
   "source": [
    "grid_search = GridSearchCV(rf_pipeline, param_grid, cv=3, scoring='r2', n_jobs=-1)\n",
    "grid_search.fit(X_train, y_train)"
   ]
  },
  {
   "cell_type": "code",
   "execution_count": 50,
   "metadata": {},
   "outputs": [],
   "source": [
    "print(\"Best parameters found:\", grid_search.best_params_)\n"
   ]
  },
  {
   "cell_type": "code",
   "execution_count": 51,
   "metadata": {},
   "outputs": [],
   "source": [
    "best_model = grid_search.best_estimator_\n",
    "\n",
    "y_pred_final = best_model.predict(X_test)\n",
    "\n",
    "r2_final = r2_score(y_test, y_pred_final)\n",
    "rmse_final = np.sqrt(mean_squared_error(y_test, y_pred_final))\n",
    "\n",
    "print(f\"Final Model R² Score: {r2_final:.3f}\")\n",
    "print(f\"Final Model RMSE: {rmse_final:.2f} hours\")"
   ]
  },
  {
   "cell_type": "code",
   "execution_count": 52,
   "metadata": {},
   "outputs": [],
   "source": [
    "results_final = pd.DataFrame({'Actual': y_test, 'Predicted': y_pred_final})\n",
    "\n",
    "fig = px.scatter(results_final, x='Actual', y='Predicted',\n",
    "                 title='Final Model (Random Forest): Actual vs Predicted Outage Duration',\n",
    "                 labels={'Actual': 'Actual Outage Duration', 'Predicted': 'Predicted Outage Duration'})\n",
    "\n",
    "# Add perfect prediction line\n",
    "fig.add_shape(\n",
    "    type=\"line\", line=dict(dash='dash'),\n",
    "    x0=results_final['Actual'].min(), y0=results_final['Actual'].min(),\n",
    "    x1=results_final['Actual'].max(), y1=results_final['Actual'].max()\n",
    ")\n",
    "\n",
    "fig.show()"
   ]
  },
  {
   "cell_type": "code",
   "execution_count": null,
   "metadata": {},
   "outputs": [],
   "source": []
  }
 ],
 "metadata": {
  "kernelspec": {
   "display_name": "Python 3 (ipykernel)",
   "language": "python",
   "name": "python3"
  }
 },
 "nbformat": 4,
 "nbformat_minor": 4
}
